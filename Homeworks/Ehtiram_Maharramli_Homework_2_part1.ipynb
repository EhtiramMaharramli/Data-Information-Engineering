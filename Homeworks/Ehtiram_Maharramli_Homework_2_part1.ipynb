{
 "cells": [
  {
   "cell_type": "markdown",
   "metadata": {
    "id": "BIDmKXhDxExu"
   },
   "source": [
    "## Assessment Criteria:\n",
    "\n",
    "The homework will be assessed based on the following criteria:\n",
    "   - **Homework_2_part1 (40%)** - All questions inside this part have the same weight.\n",
    "   - **Homework_2_part2 (60%)** - All questions inside this part have the same weight.\n",
    "   \n",
    "   \n",
    "## 1.\n",
    "Create a 4×5 numpy array of all True’s"
   ]
  },
  {
   "cell_type": "code",
   "execution_count": 1,
   "metadata": {
    "id": "Qp1RE7koxExw"
   },
   "outputs": [
    {
     "data": {
      "text/plain": [
       "array([[ True,  True,  True,  True,  True],\n",
       "       [ True,  True,  True,  True,  True],\n",
       "       [ True,  True,  True,  True,  True],\n",
       "       [ True,  True,  True,  True,  True]])"
      ]
     },
     "execution_count": 1,
     "metadata": {},
     "output_type": "execute_result"
    }
   ],
   "source": [
    "import numpy as np\n",
    "l = np.ones((4,5),dtype=bool)\n",
    "l"
   ]
  },
  {
   "cell_type": "markdown",
   "metadata": {
    "id": "v7nF5mecxExx"
   },
   "source": [
    "## 2.\n",
    "Extract all even numbers from arr\n",
    "\n",
    "Input:\n",
    "\n",
    "arr = np.array([0, 1, 2, 3, 4, 5, 6, 7, 8, 9])\n",
    "\n",
    "Desired output:\n",
    "\n",
    "array([0, 2, 4, 6, 8])"
   ]
  },
  {
   "cell_type": "code",
   "execution_count": 2,
   "metadata": {
    "id": "w_OEsw-txExx"
   },
   "outputs": [
    {
     "data": {
      "text/plain": [
       "array([0, 2, 4, 6, 8])"
      ]
     },
     "execution_count": 2,
     "metadata": {},
     "output_type": "execute_result"
    }
   ],
   "source": [
    "arr = np.array([0, 1, 2, 3, 4, 5, 6, 7, 8, 9])\n",
    "even_arr=np.array([i for i in arr if i%2==0])\n",
    "even_arr"
   ]
  },
  {
   "cell_type": "markdown",
   "metadata": {
    "id": "NrzQY69dxExx"
   },
   "source": [
    "## 3.\n",
    "\n",
    "Replace all even numbers in arr with 5\n",
    "\n",
    "Input:\n",
    "\n",
    "arr = np.array([0, 1, 2, 3, 4, 5, 6, 7, 8, 9])\n",
    "\n",
    "Desired Output:\n",
    "\n",
    "array([5, 1, 5, 3, 5, 5, 5, 7, 5, 9])"
   ]
  },
  {
   "cell_type": "code",
   "execution_count": 3,
   "metadata": {
    "id": "3y59DjQexExx"
   },
   "outputs": [
    {
     "data": {
      "text/plain": [
       "array([5, 1, 5, 3, 5, 5, 5, 7, 5, 9])"
      ]
     },
     "execution_count": 3,
     "metadata": {},
     "output_type": "execute_result"
    }
   ],
   "source": [
    "arr = np.array([0, 1, 2, 3, 4, 5, 6, 7, 8, 9])\n",
    "even_arr5=np.array([5 if i%2==0 else i for i in arr])\n",
    "even_arr5"
   ]
  },
  {
   "cell_type": "markdown",
   "metadata": {
    "id": "8erObAUXxExx"
   },
   "source": [
    "## 4.\n",
    "\n",
    "Convert a 1D array to a 2D array with 5 rows\n",
    "\n",
    "Input:\n",
    "\n",
    "np.arange(10)\n",
    "\n",
    "array([ 0, 1, 2, 3, 4, 5, 6, 7, 8, 9])\n",
    "\n",
    "Desired Output:\n",
    "```\n",
    "array([[0, 1],\n",
    "       [2, 3],\n",
    "       [4, 5],\n",
    "       [6, 7],\n",
    "       [8, 9]])\n",
    "```"
   ]
  },
  {
   "cell_type": "code",
   "execution_count": 4,
   "metadata": {
    "id": "5UK0TGu2xExx"
   },
   "outputs": [
    {
     "data": {
      "text/plain": [
       "array([[0, 1],\n",
       "       [2, 3],\n",
       "       [4, 5],\n",
       "       [6, 7],\n",
       "       [8, 9]])"
      ]
     },
     "execution_count": 4,
     "metadata": {},
     "output_type": "execute_result"
    }
   ],
   "source": [
    "new_arr=np.arange(10)\n",
    "new_arr=new_arr.reshape((5,2))\n",
    "new_arr"
   ]
  },
  {
   "cell_type": "markdown",
   "metadata": {
    "id": "moIwj4XmxExx"
   },
   "source": [
    "## 5.\n",
    "\n",
    "Stack arrays a and b vertically\n",
    "\n",
    "Input:\n",
    "```\n",
    "a = np.arange(10).reshape(2,-1)\n",
    "b = np.repeat(1, 10).reshape(2,-1)\n",
    "\n",
    "```\n",
    "\n",
    "Desired Output:\n",
    "\n",
    "```\n",
    "#> array([[0, 1, 2, 3, 4],\n",
    "#>        [5, 6, 7, 8, 9],\n",
    "#>        [1, 1, 1, 1, 1],\n",
    "#>        [1, 1, 1, 1, 1]])\n",
    "```"
   ]
  },
  {
   "cell_type": "code",
   "execution_count": 5,
   "metadata": {
    "id": "WiTTGI14xExy"
   },
   "outputs": [
    {
     "data": {
      "text/plain": [
       "array([[0, 1, 2, 3, 4],\n",
       "       [5, 6, 7, 8, 9],\n",
       "       [1, 1, 1, 1, 1],\n",
       "       [1, 1, 1, 1, 1]])"
      ]
     },
     "execution_count": 5,
     "metadata": {},
     "output_type": "execute_result"
    }
   ],
   "source": [
    "a = np.arange(10).reshape(2,-1)\n",
    "b = np.repeat(1, 10).reshape(2,-1)\n",
    "c=np.vstack((a,b))\n",
    "c"
   ]
  },
  {
   "cell_type": "markdown",
   "metadata": {
    "id": "m8PNEGByxExy"
   },
   "source": [
    "## 6.\n",
    "\n",
    "Get the common items between a and b\n",
    "\n",
    "Input:\n",
    "```\n",
    "a = np.array([7,2,8,2,3,4,3,4,5,3])\n",
    "b = np.array([7,2,10,2,4,4,9,4,9,8])\n",
    "```\n",
    "Desired Output:\n",
    "```\n",
    "array([2, 4, 7, 8])\n",
    "```"
   ]
  },
  {
   "cell_type": "code",
   "execution_count": 6,
   "metadata": {
    "id": "5dHNDvfTxExy"
   },
   "outputs": [
    {
     "data": {
      "text/plain": [
       "array([2, 4, 7, 8])"
      ]
     },
     "execution_count": 6,
     "metadata": {},
     "output_type": "execute_result"
    }
   ],
   "source": [
    "a = np.array([7,2,8,2,3,4,3,4,5,3])\n",
    "b = np.array([7,2,10,2,4,4,9,4,9,8])\n",
    "c=np.intersect1d(a,b)\n",
    "c"
   ]
  },
  {
   "cell_type": "markdown",
   "metadata": {
    "id": "FqjspxK6xExy"
   },
   "source": [
    "## 7.\n",
    "\n",
    "Get the positions where elements of a and b match\n",
    "\n",
    "Input:\n",
    "```\n",
    "a = np.array([1,2,3,2,3,4,3,4,5,6])\n",
    "b = np.array([7,2,10,2,7,4,9,4,9,8])\n",
    "```\n",
    "Desired Output:\n",
    "```\n",
    "#> (array([1, 3, 5, 7])\n",
    "```"
   ]
  },
  {
   "cell_type": "code",
   "execution_count": 7,
   "metadata": {
    "id": "QNErr21BxExy"
   },
   "outputs": [
    {
     "data": {
      "text/plain": [
       "(array([1, 3, 5, 7], dtype=int64),)"
      ]
     },
     "execution_count": 7,
     "metadata": {},
     "output_type": "execute_result"
    }
   ],
   "source": [
    "a = np.array([1,2,3,2,3,4,3,4,5,6])\n",
    "b = np.array([7,2,10,2,7,4,9,4,9,8])\n",
    "res=np.where(a==b)\n",
    "res"
   ]
  },
  {
   "cell_type": "markdown",
   "metadata": {
    "id": "ZESeXVyOxExy"
   },
   "source": [
    "## 8.\n",
    "\n",
    "You are given the function `minn` that works on two scalars and finds their minimum. Create a new function called `vectorized_minn` that will use this `minn` function and will work with two numpy arrays.\n",
    "\n",
    "Input:\n",
    "```\n",
    "def minn(x, y):\n",
    "    \"\"\"Get the minimum of two items\"\"\"\n",
    "    if x <= y:\n",
    "        return x\n",
    "    else:\n",
    "        return y\n",
    "        \n",
    "        \n",
    "a = np.array([78, 43, 97, 21, 343, 14, 32])\n",
    "b = np.array([68, 77, 36, 42, 41, 97, 32])\n",
    "vectorized_minn(a, b)\n",
    "```\n",
    "\n",
    "Desired Output:\n",
    "\n",
    "```\n",
    "array([68., 43., 36., 21., 41., 14., 32.])\n",
    "```"
   ]
  },
  {
   "cell_type": "code",
   "execution_count": 8,
   "metadata": {
    "id": "GKQzxSnhxExy"
   },
   "outputs": [
    {
     "data": {
      "text/plain": [
       "array([68, 43, 36, 21, 41, 14, 32])"
      ]
     },
     "execution_count": 8,
     "metadata": {},
     "output_type": "execute_result"
    }
   ],
   "source": [
    "def minn(x, y):\n",
    "    \"\"\"Get the minimum of two items\"\"\"\n",
    "    if x <= y:\n",
    "        return x\n",
    "    else:\n",
    "        return y\n",
    "\n",
    "def vectorized_minn(a,b):\n",
    "    result = np.array([minn(x, y) for x, y in zip(a,b)])\n",
    "    return result\n",
    "\n",
    "    \n",
    "    \n",
    "\n",
    "a = np.array([78, 43, 97, 21, 343, 14, 32])\n",
    "b = np.array([68, 77, 36, 42, 41, 97, 32])\n",
    "vectorized_minn(a, b)\n"
   ]
  },
  {
   "cell_type": "markdown",
   "metadata": {
    "id": "MyDWayt2xExz"
   },
   "source": [
    "## 9.\n",
    "\n",
    "Swap first and second rows in the array arr:\n",
    "\n",
    "Input:\n",
    "```\n",
    "arr = np.arange(15).reshape(5,3)\n",
    "arr\n",
    "\n",
    "array([[ 0,  1,  2],\n",
    "       [ 3,  4,  5],\n",
    "       [ 6,  7,  8],\n",
    "       [ 9, 10, 11],\n",
    "       [12, 13, 14]])\n",
    "       \n",
    "```\n",
    "\n",
    "Desired Output:\n",
    "\n",
    "```\n",
    "array([[ 3,  4,  5],\n",
    "       [ 0,  1,  2],\n",
    "       [ 6,  7,  8],\n",
    "       [ 9, 10, 11],\n",
    "       [12, 13, 14]])\n",
    "```\n"
   ]
  },
  {
   "cell_type": "code",
   "execution_count": 9,
   "metadata": {
    "id": "AVdQYn6zxExz"
   },
   "outputs": [
    {
     "data": {
      "text/plain": [
       "array([[ 0,  1,  2],\n",
       "       [ 3,  4,  5],\n",
       "       [ 6,  7,  8],\n",
       "       [ 9, 10, 11],\n",
       "       [12, 13, 14]])"
      ]
     },
     "execution_count": 9,
     "metadata": {},
     "output_type": "execute_result"
    }
   ],
   "source": [
    "arr = np.arange(15).reshape(5,3)\n",
    "arr"
   ]
  },
  {
   "cell_type": "code",
   "execution_count": 10,
   "metadata": {},
   "outputs": [
    {
     "data": {
      "text/plain": [
       "array([[ 3,  4,  5],\n",
       "       [ 0,  1,  2],\n",
       "       [ 6,  7,  8],\n",
       "       [ 9, 10, 11],\n",
       "       [12, 13, 14]])"
      ]
     },
     "execution_count": 10,
     "metadata": {},
     "output_type": "execute_result"
    }
   ],
   "source": [
    "temp=arr[0].copy()\n",
    "arr[0]=arr[1].copy()\n",
    "arr[1]=temp\n",
    "arr"
   ]
  },
  {
   "cell_type": "markdown",
   "metadata": {
    "id": "fyOblO2GxExz"
   },
   "source": [
    "## 10.\n",
    "\n",
    "You are given a numpy array. Set the numpy options so that when printed, only 8 of the array elements are printed.\n",
    "\n",
    "Input:\n",
    "```\n",
    "a = np.arange(15)\n",
    "#> array([ 0,  1,  2,  3,  4,  5,  6,  7,  8,  9, 10, 11, 12, 13, 14])\n",
    "\n",
    "```\n",
    "\n",
    "Desired Output:\n",
    "```\n",
    "#> array([ 0,  1,  2, ..., 12, 13, 14])\n",
    "```"
   ]
  },
  {
   "cell_type": "code",
   "execution_count": 11,
   "metadata": {
    "id": "GkiBdWVpxExz"
   },
   "outputs": [
    {
     "name": "stdout",
     "output_type": "stream",
     "text": [
      "[ 0  1  2 ... 12 13 14]\n"
     ]
    }
   ],
   "source": [
    "a = np.arange(15)\n",
    "with np.printoptions(threshold=8):\n",
    "    print(a)\n"
   ]
  },
  {
   "cell_type": "markdown",
   "metadata": {
    "id": "sgLLWhnRxExz"
   },
   "source": [
    "## 11.\n",
    "\n",
    "You are given a numpy array. Write a function `sort_arr_indexes` that will take numpy array and return the indices of the sorted elements of a given array.\n",
    "\n",
    "Input:\n",
    "\n",
    "```\n",
    "arr = np.array([5342, 2326, 4232, 9765, 3218, 2678, 8564])\n",
    "```\n",
    "\n",
    "Output:\n",
    "\n",
    "```\n",
    "array([1, 5, 4, 2, 0, 6, 3], dtype=int64)\n",
    "```\n"
   ]
  },
  {
   "cell_type": "code",
   "execution_count": 12,
   "metadata": {
    "id": "FrRsiUdGxExz"
   },
   "outputs": [
    {
     "data": {
      "text/plain": [
       "array([1, 5, 4, 2, 0, 6, 3], dtype=int64)"
      ]
     },
     "execution_count": 12,
     "metadata": {},
     "output_type": "execute_result"
    }
   ],
   "source": [
    "def sort_arr_indexes(arr):\n",
    "    return np.argsort(arr)\n",
    "\n",
    "arr = np.array([5342, 2326, 4232, 9765, 3218, 2678, 8564])\n",
    "sorted_indices = sort_arr_indexes(arr)\n",
    "sorted_indices\n"
   ]
  },
  {
   "cell_type": "code",
   "execution_count": null,
   "metadata": {},
   "outputs": [],
   "source": []
  }
 ],
 "metadata": {
  "colab": {
   "provenance": []
  },
  "kernelspec": {
   "display_name": "Python 3 (ipykernel)",
   "language": "python",
   "name": "python3"
  },
  "language_info": {
   "codemirror_mode": {
    "name": "ipython",
    "version": 3
   },
   "file_extension": ".py",
   "mimetype": "text/x-python",
   "name": "python",
   "nbconvert_exporter": "python",
   "pygments_lexer": "ipython3",
   "version": "3.9.13"
  }
 },
 "nbformat": 4,
 "nbformat_minor": 1
}
