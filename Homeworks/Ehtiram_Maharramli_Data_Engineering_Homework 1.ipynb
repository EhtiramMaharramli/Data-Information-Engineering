{
 "cells": [
  {
   "cell_type": "markdown",
   "metadata": {},
   "source": [
    "# Exercises"
   ]
  },
  {
   "cell_type": "markdown",
   "metadata": {},
   "source": [
    "Welcome to your first Homework! \n",
    "To get started, try running the code **cell below** (by pressing the ► button, or clicking on the cell and pressing ctrl+enter on your keyboard)."
   ]
  },
  {
   "cell_type": "code",
   "execution_count": 1,
   "metadata": {},
   "outputs": [
    {
     "name": "stdout",
     "output_type": "stream",
     "text": [
      "You've successfully run a Python code\n",
      "Congratulations!\n"
     ]
    }
   ],
   "source": [
    "print(\"You've successfully run a Python code\")\n",
    "print(\"Congratulations!\")"
   ]
  },
  {
   "cell_type": "markdown",
   "metadata": {},
   "source": [
    "# Exercise 0."
   ]
  },
  {
   "cell_type": "code",
   "execution_count": 3,
   "metadata": {},
   "outputs": [
    {
     "data": {
      "text/plain": [
       "'Yellow'"
      ]
     },
     "execution_count": 3,
     "metadata": {},
     "output_type": "execute_result"
    }
   ],
   "source": [
    "# create a variable called color with an appropriate value on the line below\n",
    "# (Remember, strings in Python must be enclosed in 'single' or \"double\" quotes)\n",
    "color='Yellow'\n",
    "color"
   ]
  },
  {
   "cell_type": "markdown",
   "metadata": {},
   "source": [
    "# Exercise 1."
   ]
  },
  {
   "cell_type": "code",
   "execution_count": 5,
   "metadata": {},
   "outputs": [
    {
     "data": {
      "text/plain": [
       "38.4844775"
      ]
     },
     "execution_count": 5,
     "metadata": {},
     "output_type": "execute_result"
    }
   ],
   "source": [
    "pi = 3.14159 # approximate\n",
    "diameter = 7\n",
    "\n",
    "# Create a variable called 'radius' equal to half the diameter\n",
    "radius=0.5*diameter\n",
    "\n",
    "# Create a variable called 'area', using the formula for the area of a circle: pi times the radius squared\n",
    "area=pi*(radius**2)\n",
    "area"
   ]
  },
  {
   "cell_type": "markdown",
   "metadata": {},
   "source": [
    "# Exercise 2."
   ]
  },
  {
   "cell_type": "code",
   "execution_count": 6,
   "metadata": {},
   "outputs": [
    {
     "name": "stdout",
     "output_type": "stream",
     "text": [
      "5 3\n"
     ]
    }
   ],
   "source": [
    "########### Setup code - don't touch this part ######################\n",
    "a = 3\n",
    "b = 5\n",
    "#####################################################################\n",
    "# Your code goes here. Swap the values to which a and b refer.\n",
    "a,b=b,a\n",
    "print(a,b)\n",
    "######################################################################"
   ]
  },
  {
   "cell_type": "markdown",
   "metadata": {},
   "source": [
    "<hr/>\n",
    "\n",
    "# Exercise 3.\n",
    "a) Add parentheses to the following expression so that it evaluates to 1."
   ]
  },
  {
   "cell_type": "code",
   "execution_count": 8,
   "metadata": {},
   "outputs": [
    {
     "data": {
      "text/plain": [
       "1"
      ]
     },
     "execution_count": 8,
     "metadata": {},
     "output_type": "execute_result"
    }
   ],
   "source": [
    "(5 - 3) // 2"
   ]
  },
  {
   "cell_type": "code",
   "execution_count": null,
   "metadata": {},
   "outputs": [],
   "source": []
  },
  {
   "cell_type": "markdown",
   "metadata": {},
   "source": [
    "b) Add parentheses to the following expression so that it evaluates to 0.\n"
   ]
  },
  {
   "cell_type": "code",
   "execution_count": 9,
   "metadata": {},
   "outputs": [
    {
     "data": {
      "text/plain": [
       "0"
      ]
     },
     "execution_count": 9,
     "metadata": {},
     "output_type": "execute_result"
    }
   ],
   "source": [
    "8 - (3 * 2) - (1 + 1)"
   ]
  },
  {
   "cell_type": "markdown",
   "metadata": {},
   "source": [
    "<hr/>\n",
    "\n",
    "# Exercise 4.\n",
    "Alice, Bob and Carol have agreed to pool their Halloween candy and split it evenly among themselves.\n",
    "For the sake of their friendship, any candies left over will be destroyed. For example, if they collectively\n",
    "bring home 91 candies, they'll take 30 each and destroy 1.\n",
    "\n",
    "Write an arithmetic expression below to calculate how many candies they must destroy."
   ]
  },
  {
   "cell_type": "code",
   "execution_count": 16,
   "metadata": {},
   "outputs": [
    {
     "data": {
      "text/plain": [
       "1"
      ]
     },
     "execution_count": 16,
     "metadata": {},
     "output_type": "execute_result"
    }
   ],
   "source": [
    "# Variables representing the number of candies collected by alice, bob, and carol\n",
    "alice_candies = 128\n",
    "bob_candies = 94\n",
    "carol_candies = 112\n",
    "\n",
    "\n",
    "# Your code goes here! Calculate the number of candies that must be destroyed.\n",
    "# to_destroy = \n",
    "to_destroy=(alice_candies+bob_candies+carol_candies)%3\n",
    "to_destroy"
   ]
  },
  {
   "cell_type": "markdown",
   "metadata": {},
   "source": [
    "<hr/>\n",
    "\n",
    "# Exercise 5.\n",
    "In the main lesson we talked about deciding whether we're prepared for the exam. I said that a student is ready for the exam if...\n",
    "- A student is prepared...\n",
    "- or if the exam isn't too difficult and the student has an exceptional logic...\n",
    "- otherwise, the student will still pass unless the student has passed the minimum passing score and the student has not a plagiarized\n",
    "\n",
    "The code below uses our first attempt at turning this logic into a Python expression. I claim that there is a __bug__ in that code. Can you find it?\n",
    "\n",
    "To prove that the below code is buggy, come up with a set of __inputs__ where it returns the wrong answer."
   ]
  },
  {
   "cell_type": "code",
   "execution_count": 76,
   "metadata": {},
   "outputs": [
    {
     "name": "stdout",
     "output_type": "stream",
     "text": [
      "True\n",
      "True\n"
     ]
    }
   ],
   "source": [
    "# Some initial values for variables (inputs), you can play with them.\n",
    "# Change the values of these inputs so they represent a case where the code returns wrong answer ( In other words, find bug!)\n",
    "is_prepared = True\n",
    "exam_difficult = False\n",
    "exceptional_logic = True\n",
    "passed_minimum = True\n",
    "plagiarized = False\n",
    "\n",
    "# Code for cheking weather a student will pass exam given the current values of the variables above (inputs)\n",
    "# This code is buggy, find the bug!\n",
    "will_student_pass = (is_prepared) or (exam_difficult and not exceptional_logic) or (passed_minimum and not plagiarized)\n",
    "print(will_student_pass)\n",
    "\n",
    "# Below write the correct version of the code\n",
    "will_student_pass = (is_prepared) or (not exam_difficult and exceptional_logic) or (passed_minimum and not plagiarized)\n",
    "print(will_student_pass)"
   ]
  },
  {
   "cell_type": "markdown",
   "metadata": {},
   "source": [
    "## Exercise 6.\n",
    "\n",
    "Return the second element of the given list. If the list has no second element, return None"
   ]
  },
  {
   "cell_type": "code",
   "execution_count": 21,
   "metadata": {},
   "outputs": [
    {
     "name": "stdout",
     "output_type": "stream",
     "text": [
      "7\n"
     ]
    }
   ],
   "source": [
    "a = [3, 7, 9]\n",
    "\n",
    "# Your code goes here\n",
    "print(a[1])"
   ]
  },
  {
   "cell_type": "markdown",
   "metadata": {},
   "source": [
    "## Exercise 7.\n",
    "\n",
    "You are analyzing sports teams.  Members of each team are stored in a list. The Coach is the last name in the list, the captain is the second name in the list, and other players are listed after that. \n",
    "These lists are stored in another list, which starts with the best team and proceeds through the list to the worst team last.   Construct a sample list as specified above and write a code to select the **captain** and **coach** of the worst team."
   ]
  },
  {
   "cell_type": "code",
   "execution_count": 73,
   "metadata": {},
   "outputs": [
    {
     "name": "stdout",
     "output_type": "stream",
     "text": [
      "Captain:  Bruno\n",
      "Coach:  Ten Haag\n"
     ]
    }
   ],
   "source": [
    "# Construct a sample list as specified above\n",
    "\n",
    "# Select the captain and the coach of the worst team from that list\n",
    "t1=['Manchester City:','De Bruyne','Rodri','Bernardo Silva','Pep Guardiola']\n",
    "t2=['Manchester United:','Bruno','Holjund','Garnacho','Ten Haag']\n",
    "t3=['Liverpool:','Van Dijk','Arnold','Alisson','Klopp']\n",
    "\n",
    "l=[t1,t3,t2]\n",
    "print(\"Captain: \", l[-1][1])\n",
    "print(\"Coach: \", l[-1][-1])"
   ]
  },
  {
   "cell_type": "markdown",
   "metadata": {},
   "source": [
    "## Exercise 8. \n",
    "\n",
    "Given a list of racers, set the last place racer (at the end of the list) to first place and vice versa"
   ]
  },
  {
   "cell_type": "code",
   "execution_count": 22,
   "metadata": {},
   "outputs": [
    {
     "name": "stdout",
     "output_type": "stream",
     "text": [
      "['Nurgul', 'Mamed', 'Arif']\n"
     ]
    }
   ],
   "source": [
    "################# Example ###################\n",
    "## before\n",
    "## [\"Arif\", \"Mamed\", \"Nurgul\"]\n",
    "## after\n",
    "## [\"Nurgul\", \"Mamed\", \"Arif\"]\n",
    "l=[\"Arif\", \"Mamed\", \"Nurgul\"]\n",
    "### your code goes here \n",
    "l[0],l[-1]=l[-1],l[0]\n",
    "print(l)"
   ]
  },
  {
   "cell_type": "markdown",
   "metadata": {},
   "source": [
    "## Exercise 9.\n",
    "Write a function which takes a list of numbers as an argument and returns whether the given list of numbers is lucky. A lucky list contains at least one number divisible by 13."
   ]
  },
  {
   "cell_type": "code",
   "execution_count": 44,
   "metadata": {},
   "outputs": [
    {
     "name": "stdout",
     "output_type": "stream",
     "text": [
      "[27, 19, 26, 17, 23]\n",
      "You have lucky number.\n"
     ]
    }
   ],
   "source": [
    "import random\n",
    "def has_lucky_number(nums):\n",
    "    \"\"\"Return whether the given list of numbers is lucky. A lucky list contains\n",
    "    at least one number divisible by 13.\n",
    "    \"\"\"\n",
    "    \n",
    "    print( nums)\n",
    "    # your code goes below\n",
    "    c=0\n",
    "    for i in nums:\n",
    "        if i%13==0:\n",
    "            c=c+1\n",
    "    if c>0:\n",
    "        return \"You have lucky number.\"\n",
    "    else:\n",
    "        return \"You don't have lucky number\"\n",
    "    \n",
    "\n",
    "    pass\n",
    "\n",
    "print(has_lucky_number(nums = random.sample(range(10, 30), 5)))"
   ]
  },
  {
   "cell_type": "markdown",
   "metadata": {},
   "source": [
    "## Exercise 10.\n",
    "\n",
    "Complete the body of the function below according to its docstring"
   ]
  },
  {
   "cell_type": "code",
   "execution_count": 69,
   "metadata": {},
   "outputs": [
    {
     "name": "stdout",
     "output_type": "stream",
     "text": [
      "['Dolma', 'Dolma', 'Kabab', 'Dusbere', 'Dusbere', 'Dusbere']\n",
      "Your menu is boring\n"
     ]
    }
   ],
   "source": [
    "def menu_is_boring(meals):\n",
    "    \"\"\"\n",
    "    Given a list of meals served over some period of time, return True if the\n",
    "    same meal has ever been served three days in a row, and False otherwise.\n",
    "    \"\"\"\n",
    "    print(meals)\n",
    "    c = 0\n",
    "    for k in range(len(meals) - 2):\n",
    "        if meals[k] == meals[k + 1] == meals[k + 2]:\n",
    "            c += 1\n",
    "    if c > 0:\n",
    "        print(\"Your menu is boring\")\n",
    "        \n",
    "    else:\n",
    "        print(\"Your menu is not boring\")\n",
    "        \n",
    "\n",
    "menu_is_boring(meals=['Dolma', 'Dolma', 'Kabab', 'Dusbere', 'Dusbere', 'Dusbere'])\n"
   ]
  },
  {
   "cell_type": "markdown",
   "metadata": {},
   "source": [
    "## Exercise 11.\n",
    "\n",
    "There is a saying that \"Data scientists spend 80% of their time cleaning data, and 20% of their time complaining about cleaning data.\" Let's see if you can write a function to help clean US zip code data. Given a string, it should return whether or not that string represents a valid zip code. For our purposes, a valid zip code is any string consisting of exactly 5 digits."
   ]
  },
  {
   "cell_type": "code",
   "execution_count": 71,
   "metadata": {},
   "outputs": [
    {
     "name": "stdout",
     "output_type": "stream",
     "text": [
      "a5c4c321\n",
      "Valid zip code.\n"
     ]
    }
   ],
   "source": [
    "def is_valid_zip(zip_code):\n",
    "    \"\"\"Returns whether the input string is a valid (5 digit) zip code\n",
    "    \"\"\"\n",
    "    # your code goes here\n",
    "    c=0\n",
    "    print(zip_code)\n",
    "    for i in zip_code:\n",
    "        if i.isdigit():\n",
    "            c=c+1\n",
    "    if c==5:\n",
    "        print(\"Valid zip code.\")\n",
    "    else:\n",
    "        print(\"Zip code is not valid\")\n",
    "        \n",
    "        \n",
    "        \n",
    "    pass\n",
    "\n",
    "is_valid_zip(zip_code='a5c4c321')\n"
   ]
  },
  {
   "cell_type": "code",
   "execution_count": null,
   "metadata": {},
   "outputs": [],
   "source": []
  }
 ],
 "metadata": {
  "kernelspec": {
   "display_name": "Python 3 (ipykernel)",
   "language": "python",
   "name": "python3"
  },
  "language_info": {
   "codemirror_mode": {
    "name": "ipython",
    "version": 3
   },
   "file_extension": ".py",
   "mimetype": "text/x-python",
   "name": "python",
   "nbconvert_exporter": "python",
   "pygments_lexer": "ipython3",
   "version": "3.9.13"
  }
 },
 "nbformat": 4,
 "nbformat_minor": 2
}
